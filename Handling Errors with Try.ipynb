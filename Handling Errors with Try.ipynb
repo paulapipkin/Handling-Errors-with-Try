{
 "cells": [
  {
   "cell_type": "code",
   "execution_count": 1,
   "id": "959edd58",
   "metadata": {},
   "outputs": [
    {
     "data": {
      "text/plain": [
       "[1,\n",
       " 5,\n",
       " 82,\n",
       " 94,\n",
       " 'twenty-four',\n",
       " 82,\n",
       " 94,\n",
       " 'pi',\n",
       " 27,\n",
       " 32,\n",
       " 'four',\n",
       " {'#': 42},\n",
       " [],\n",
       " [[1, 2]],\n",
       " 'seven',\n",
       " 384,\n",
       " 1.92,\n",
       " True,\n",
       " 'thirty-nine',\n",
       " 3.14]"
      ]
     },
     "execution_count": 1,
     "metadata": {},
     "output_type": "execute_result"
    }
   ],
   "source": [
    "data = [1,5,82,94,'twenty-four',82,94,'pi',27,32,'four',{'#':42},[],[[1,2]],'seven',384,1.92,\n",
    "        True, 'thirty-nine', 3.14]\n",
    "data\n",
    "\n"
   ]
  },
  {
   "cell_type": "code",
   "execution_count": 2,
   "id": "73697bd8",
   "metadata": {},
   "outputs": [],
   "source": [
    "def divide_by(x, denom):\n",
    "    return x/denom\n",
    "\n"
   ]
  },
  {
   "cell_type": "code",
   "execution_count": 3,
   "id": "1ff43db7",
   "metadata": {},
   "outputs": [
    {
     "data": {
      "text/plain": [
       "2.0"
      ]
     },
     "execution_count": 3,
     "metadata": {},
     "output_type": "execute_result"
    }
   ],
   "source": [
    "# testing the function\n",
    "divide_by(40,20)\n",
    "\n"
   ]
  },
  {
   "cell_type": "code",
   "execution_count": 4,
   "id": "d5d4d174",
   "metadata": {},
   "outputs": [
    {
     "name": "stdout",
     "output_type": "stream",
     "text": [
      "1 / 20 = 0.05\n",
      "5 / 20 = 0.25\n",
      "82 / 20 = 4.1\n",
      "94 / 20 = 4.7\n"
     ]
    },
    {
     "ename": "TypeError",
     "evalue": "unsupported operand type(s) for /: 'str' and 'int'",
     "output_type": "error",
     "traceback": [
      "\u001b[1;31m---------------------------------------------------------------------------\u001b[0m",
      "\u001b[1;31mTypeError\u001b[0m                                 Traceback (most recent call last)",
      "Cell \u001b[1;32mIn [4], line 3\u001b[0m\n\u001b[0;32m      1\u001b[0m \u001b[38;5;28;01mfor\u001b[39;00m x \u001b[38;5;129;01min\u001b[39;00m data:\n\u001b[1;32m----> 3\u001b[0m     res \u001b[38;5;241m=\u001b[39m \u001b[43mdivide_by\u001b[49m\u001b[43m(\u001b[49m\u001b[43mx\u001b[49m\u001b[43m,\u001b[49m\u001b[38;5;241;43m20\u001b[39;49m\u001b[43m)\u001b[49m\n\u001b[0;32m      4\u001b[0m     \u001b[38;5;28mprint\u001b[39m(\u001b[38;5;124mf\u001b[39m\u001b[38;5;124m'\u001b[39m\u001b[38;5;132;01m{\u001b[39;00mx\u001b[38;5;132;01m}\u001b[39;00m\u001b[38;5;124m / 20 = \u001b[39m\u001b[38;5;132;01m{\u001b[39;00mres\u001b[38;5;132;01m}\u001b[39;00m\u001b[38;5;124m'\u001b[39m)\n",
      "Cell \u001b[1;32mIn [2], line 2\u001b[0m, in \u001b[0;36mdivide_by\u001b[1;34m(x, denom)\u001b[0m\n\u001b[0;32m      1\u001b[0m \u001b[38;5;28;01mdef\u001b[39;00m \u001b[38;5;21mdivide_by\u001b[39m(x, denom):\n\u001b[1;32m----> 2\u001b[0m     \u001b[38;5;28;01mreturn\u001b[39;00m \u001b[43mx\u001b[49m\u001b[38;5;241;43m/\u001b[39;49m\u001b[43mdenom\u001b[49m\n",
      "\u001b[1;31mTypeError\u001b[0m: unsupported operand type(s) for /: 'str' and 'int'"
     ]
    }
   ],
   "source": [
    "for x in data:\n",
    "    \n",
    "    res = divide_by(x,20)\n",
    "    print(f'{x} / 20 = {res}')\n",
    "\n"
   ]
  },
  {
   "cell_type": "code",
   "execution_count": 5,
   "id": "5f5e6cf5",
   "metadata": {},
   "outputs": [
    {
     "name": "stdout",
     "output_type": "stream",
     "text": [
      "1 / 20 = 0.05\n",
      "5 / 20 = 0.25\n",
      "82 / 20 = 4.1\n",
      "94 / 20 = 4.7\n",
      "82 / 20 = 4.1\n",
      "94 / 20 = 4.7\n",
      "27 / 20 = 1.35\n",
      "32 / 20 = 1.6\n",
      "384 / 20 = 19.2\n",
      "1.92 / 20 = 0.096\n",
      "True / 20 = 0.05\n",
      "3.14 / 20 = 0.157\n"
     ]
    }
   ],
   "source": [
    "for x in data:\n",
    "    try:\n",
    "        res = divide_by(x,20)\n",
    "        print(f'{x} / 20 = {res}')\n",
    "        \n",
    "    except:\n",
    "        pass\n",
    "\n"
   ]
  },
  {
   "cell_type": "code",
   "execution_count": 6,
   "id": "2ec259be",
   "metadata": {},
   "outputs": [
    {
     "name": "stdout",
     "output_type": "stream",
     "text": [
      "1 / 20 = 0.05\n",
      "5 / 20 = 0.25\n",
      "82 / 20 = 4.1\n",
      "94 / 20 = 4.7\n",
      "Error dividing twenty-four by 20\n",
      "82 / 20 = 4.1\n",
      "94 / 20 = 4.7\n",
      "Error dividing pi by 20\n",
      "27 / 20 = 1.35\n",
      "32 / 20 = 1.6\n",
      "Error dividing four by 20\n",
      "Error dividing {'#': 42} by 20\n",
      "Error dividing [] by 20\n",
      "Error dividing [[1, 2]] by 20\n",
      "Error dividing seven by 20\n",
      "384 / 20 = 19.2\n",
      "1.92 / 20 = 0.096\n",
      "True / 20 = 0.05\n",
      "Error dividing thirty-nine by 20\n",
      "3.14 / 20 = 0.157\n"
     ]
    }
   ],
   "source": [
    "for x in data:\n",
    "    try:\n",
    "        res = divide_by(x,20)\n",
    "        print(f'{x} / 20 = {res}')\n",
    "        \n",
    "    except:\n",
    "        print(f'Error dividing {x} by 20')\n",
    "\n"
   ]
  },
  {
   "cell_type": "code",
   "execution_count": 7,
   "id": "5b767893",
   "metadata": {},
   "outputs": [
    {
     "name": "stdout",
     "output_type": "stream",
     "text": [
      "1 / 20 = 0.05\n",
      "5 / 20 = 0.25\n",
      "82 / 20 = 4.1\n",
      "94 / 20 = 4.7\n",
      "Error:  unsupported operand type(s) for /: 'str' and 'int'\n",
      "82 / 20 = 4.1\n",
      "94 / 20 = 4.7\n",
      "Error:  unsupported operand type(s) for /: 'str' and 'int'\n",
      "27 / 20 = 1.35\n",
      "32 / 20 = 1.6\n",
      "Error:  unsupported operand type(s) for /: 'str' and 'int'\n",
      "Error:  unsupported operand type(s) for /: 'dict' and 'int'\n",
      "Error:  unsupported operand type(s) for /: 'list' and 'int'\n",
      "Error:  unsupported operand type(s) for /: 'list' and 'int'\n",
      "Error:  unsupported operand type(s) for /: 'str' and 'int'\n",
      "384 / 20 = 19.2\n",
      "1.92 / 20 = 0.096\n",
      "True / 20 = 0.05\n",
      "Error:  unsupported operand type(s) for /: 'str' and 'int'\n",
      "3.14 / 20 = 0.157\n"
     ]
    }
   ],
   "source": [
    "for x in data:\n",
    "    try:\n",
    "        res = divide_by(x,20)\n",
    "        print(f'{x} / 20 = {res}')\n",
    "        \n",
    "    except Exception as e:\n",
    "        print(f\"Error: \",e)\n",
    "\n"
   ]
  },
  {
   "cell_type": "markdown",
   "id": "4972bd5f",
   "metadata": {},
   "source": [
    "#### Try/Except/Else/Finally\n",
    "In addition to the try and except clause, we can also add \"else\" statements and \"finally\" statements.\n",
    "\n",
    "- try: the block of code that might error.\n",
    "- except: the block of code to run if the try block errors.\n",
    "- else: the block of code to run if the try block does NOT error.\n",
    "- finally: the block of code to run regardless of if the try block hit an error."
   ]
  },
  {
   "cell_type": "code",
   "execution_count": 8,
   "id": "deeb5f5e",
   "metadata": {},
   "outputs": [
    {
     "name": "stdout",
     "output_type": "stream",
     "text": [
      "1 / 20 = 0.05\n",
      "5 / 20 = 0.25\n",
      "82 / 20 = 4.1\n",
      "94 / 20 = 4.7\n",
      "twenty-four / 20 = NaN!\n",
      "82 / 20 = 4.1\n",
      "94 / 20 = 4.7\n",
      "pi / 20 = NaN!\n",
      "27 / 20 = 1.35\n",
      "32 / 20 = 1.6\n",
      "four / 20 = NaN!\n",
      "{'#': 42} / 20 = NaN!\n",
      "[] / 20 = NaN!\n",
      "[[1, 2]] / 20 = NaN!\n",
      "seven / 20 = NaN!\n",
      "384 / 20 = 19.2\n",
      "1.92 / 20 = 0.096\n",
      "True / 20 = 0.05\n",
      "thirty-nine / 20 = NaN!\n",
      "3.14 / 20 = 0.157\n"
     ]
    }
   ],
   "source": [
    "good_data = []\n",
    "bad_data = []\n",
    "for x in data:\n",
    "    try:\n",
    "        res = divide_by(x,20)\n",
    "    except:\n",
    "        # if error, append x to bad data\n",
    "        res = 'NaN!'\n",
    "        bad_data.append(x)\n",
    "    \n",
    "    else:\n",
    "        # if it worked, append x to good data\n",
    "        good_data.append(x)\n",
    "    finally:\n",
    "        print(f'{x} / 20 = {res}')\n",
    "        \n",
    "\n"
   ]
  },
  {
   "cell_type": "code",
   "execution_count": 9,
   "id": "8e2017b4",
   "metadata": {},
   "outputs": [
    {
     "data": {
      "text/plain": [
       "['twenty-four', 'pi', 'four', {'#': 42}, [], [[1, 2]], 'seven', 'thirty-nine']"
      ]
     },
     "execution_count": 9,
     "metadata": {},
     "output_type": "execute_result"
    }
   ],
   "source": [
    "bad_data\n",
    "\n"
   ]
  },
  {
   "cell_type": "code",
   "execution_count": 10,
   "id": "288fe068",
   "metadata": {},
   "outputs": [
    {
     "data": {
      "text/plain": [
       "[1, 5, 82, 94, 82, 94, 27, 32, 384, 1.92, True, 3.14]"
      ]
     },
     "execution_count": 10,
     "metadata": {},
     "output_type": "execute_result"
    }
   ],
   "source": [
    "good_data\n",
    "\n"
   ]
  },
  {
   "cell_type": "code",
   "execution_count": 12,
   "id": "00463fd9",
   "metadata": {},
   "outputs": [
    {
     "name": "stdout",
     "output_type": "stream",
     "text": [
      "1 / 20 = 0.05\n",
      "5 / 20 = 0.25\n",
      "82 / 20 = 4.1\n",
      "94 / 20 = 4.7\n",
      "82 / 20 = 4.1\n",
      "94 / 20 = 4.7\n",
      "27 / 20 = 1.35\n",
      "32 / 20 = 1.6\n",
      "384 / 20 = 19.2\n",
      "1.92 / 20 = 0.096\n",
      "True / 20 = 0.05\n",
      "3.14 / 20 = 0.157\n"
     ]
    }
   ],
   "source": [
    "for x in data:\n",
    "    if (isinstance(x,int)==True) | (isinstance(x,float)==True) :\n",
    "        res = divide_by(x,20)\n",
    "        print(f'{x} / 20 = {res}')\n",
    "\n"
   ]
  },
  {
   "cell_type": "markdown",
   "id": "1e49dd27",
   "metadata": {},
   "source": [
    "#### To create an error message, we will use the raise command."
   ]
  },
  {
   "cell_type": "code",
   "execution_count": 13,
   "id": "286caece",
   "metadata": {},
   "outputs": [],
   "source": [
    "def divide_by(x, denom):\n",
    "    if (isinstance(x,int)==False) & (isinstance(x,float)==False) :\n",
    "        raise Exception('x must be an integer or a float!')\n",
    "    return x/denom\n",
    "\n"
   ]
  },
  {
   "cell_type": "code",
   "execution_count": 14,
   "id": "c2226ce7",
   "metadata": {},
   "outputs": [
    {
     "name": "stdout",
     "output_type": "stream",
     "text": [
      "1 / 20 = 0.05\n",
      "5 / 20 = 0.25\n",
      "82 / 20 = 4.1\n",
      "94 / 20 = 4.7\n"
     ]
    },
    {
     "ename": "Exception",
     "evalue": "x must be an integer or a float!",
     "output_type": "error",
     "traceback": [
      "\u001b[1;31m---------------------------------------------------------------------------\u001b[0m",
      "\u001b[1;31mException\u001b[0m                                 Traceback (most recent call last)",
      "Cell \u001b[1;32mIn [14], line 2\u001b[0m\n\u001b[0;32m      1\u001b[0m \u001b[38;5;28;01mfor\u001b[39;00m x \u001b[38;5;129;01min\u001b[39;00m data:\n\u001b[1;32m----> 2\u001b[0m     res \u001b[38;5;241m=\u001b[39m \u001b[43mdivide_by\u001b[49m\u001b[43m(\u001b[49m\u001b[43mx\u001b[49m\u001b[43m,\u001b[49m\u001b[38;5;241;43m20\u001b[39;49m\u001b[43m)\u001b[49m\n\u001b[0;32m      3\u001b[0m     \u001b[38;5;28mprint\u001b[39m(\u001b[38;5;124mf\u001b[39m\u001b[38;5;124m'\u001b[39m\u001b[38;5;132;01m{\u001b[39;00mx\u001b[38;5;132;01m}\u001b[39;00m\u001b[38;5;124m / 20 = \u001b[39m\u001b[38;5;132;01m{\u001b[39;00mres\u001b[38;5;132;01m}\u001b[39;00m\u001b[38;5;124m'\u001b[39m)\n",
      "Cell \u001b[1;32mIn [13], line 3\u001b[0m, in \u001b[0;36mdivide_by\u001b[1;34m(x, denom)\u001b[0m\n\u001b[0;32m      1\u001b[0m \u001b[38;5;28;01mdef\u001b[39;00m \u001b[38;5;21mdivide_by\u001b[39m(x, denom):\n\u001b[0;32m      2\u001b[0m     \u001b[38;5;28;01mif\u001b[39;00m (\u001b[38;5;28misinstance\u001b[39m(x,\u001b[38;5;28mint\u001b[39m)\u001b[38;5;241m==\u001b[39m\u001b[38;5;28;01mFalse\u001b[39;00m) \u001b[38;5;241m&\u001b[39m (\u001b[38;5;28misinstance\u001b[39m(x,\u001b[38;5;28mfloat\u001b[39m)\u001b[38;5;241m==\u001b[39m\u001b[38;5;28;01mFalse\u001b[39;00m) :\n\u001b[1;32m----> 3\u001b[0m         \u001b[38;5;28;01mraise\u001b[39;00m \u001b[38;5;167;01mException\u001b[39;00m(\u001b[38;5;124m'\u001b[39m\u001b[38;5;124mx must be an integer or a float!\u001b[39m\u001b[38;5;124m'\u001b[39m)\n\u001b[0;32m      4\u001b[0m     \u001b[38;5;28;01mreturn\u001b[39;00m x\u001b[38;5;241m/\u001b[39mdenom\n",
      "\u001b[1;31mException\u001b[0m: x must be an integer or a float!"
     ]
    }
   ],
   "source": [
    "for x in data:\n",
    "    res = divide_by(x,20)\n",
    "    print(f'{x} / 20 = {res}')\n",
    "\n"
   ]
  },
  {
   "cell_type": "code",
   "execution_count": 15,
   "id": "4b7671dc",
   "metadata": {},
   "outputs": [
    {
     "name": "stdout",
     "output_type": "stream",
     "text": [
      "1 / 20 = 0.05\n",
      "5 / 20 = 0.25\n",
      "82 / 20 = 4.1\n",
      "94 / 20 = 4.7\n",
      "Error:  x must be an integer or a float!\n",
      "82 / 20 = 4.1\n",
      "94 / 20 = 4.7\n",
      "Error:  x must be an integer or a float!\n",
      "27 / 20 = 1.35\n",
      "32 / 20 = 1.6\n",
      "Error:  x must be an integer or a float!\n",
      "Error:  x must be an integer or a float!\n",
      "Error:  x must be an integer or a float!\n",
      "Error:  x must be an integer or a float!\n",
      "Error:  x must be an integer or a float!\n",
      "384 / 20 = 19.2\n",
      "1.92 / 20 = 0.096\n",
      "True / 20 = 0.05\n",
      "Error:  x must be an integer or a float!\n",
      "3.14 / 20 = 0.157\n"
     ]
    }
   ],
   "source": [
    "for x in data:\n",
    "    try:\n",
    "        res = divide_by(x,20)\n",
    "        print(f'{x} / 20 = {res}')\n",
    "        \n",
    "    except Exception as e:\n",
    "        print(f\"Error: \",e)\n",
    "        \n",
    "\n"
   ]
  },
  {
   "cell_type": "code",
   "execution_count": null,
   "id": "de7ed414",
   "metadata": {},
   "outputs": [],
   "source": []
  }
 ],
 "metadata": {
  "kernelspec": {
   "display_name": "Python (dojo-env)",
   "language": "python",
   "name": "dojo-env"
  },
  "language_info": {
   "codemirror_mode": {
    "name": "ipython",
    "version": 3
   },
   "file_extension": ".py",
   "mimetype": "text/x-python",
   "name": "python",
   "nbconvert_exporter": "python",
   "pygments_lexer": "ipython3",
   "version": "3.8.13"
  },
  "toc": {
   "base_numbering": 1,
   "nav_menu": {},
   "number_sections": false,
   "sideBar": true,
   "skip_h1_title": false,
   "title_cell": "Table of Contents",
   "title_sidebar": "Contents",
   "toc_cell": false,
   "toc_position": {},
   "toc_section_display": true,
   "toc_window_display": false
  }
 },
 "nbformat": 4,
 "nbformat_minor": 5
}
